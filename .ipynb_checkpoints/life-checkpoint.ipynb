{
 "cells": [
  {
   "cell_type": "code",
   "execution_count": 118,
   "id": "2b421deb-b920-4520-b60c-bb3ffe6a5ea2",
   "metadata": {},
   "outputs": [],
   "source": [
    "def read_grid(filename):\n",
    "    grid = []\n",
    "    with open(filename) as f:\n",
    "        w, h = map(int, f.readline().split(maxsplit=1))\n",
    "        \n",
    "        for y in range(h):\n",
    "            grid.append([0] * w)\n",
    "        \n",
    "        for no, line in enumerate(f):\n",
    "            try:\n",
    "                y, x = map(int, line.split(maxsplit=1))\n",
    "                \n",
    "                if y < 0 or x < 0:\n",
    "                    raise ValueError\n",
    "                    \n",
    "            except ValueError: \n",
    "                raise Exception(f\"Invalid cell on line {no + 2}.\")\n",
    "             \n",
    "            grid[y][x] = 1\n",
    "    \n",
    "    return grid"
   ]
  },
  {
   "cell_type": "raw",
   "id": "4821bdcb-d360-4ae0-8246-eb4bd4b8e171",
   "metadata": {},
   "source": [
    "Rules:\n",
    "- Any live cell with fewer than two live neighbours dies, as if by underpopulation.\n",
    "- Any live cell with two or three live neighbours lives on to the next generation.\n",
    "- Any live cell with more than three live neighbours dies, as if by overpopulation.\n",
    "- Any dead cell with exactly three live neighbours becomes a live cell, as if by reproduction."
   ]
  },
  {
   "cell_type": "code",
   "execution_count": 134,
   "id": "05b484ed-a8ec-4067-a3b9-6d8834ebe52a",
   "metadata": {},
   "outputs": [],
   "source": [
    "def tick(grid):\n",
    "    h, w = len(grid), len(grid[0])\n",
    "    nextgrid = []\n",
    "    for y in range(h):\n",
    "        nextgrid.append([0] * w)\n",
    "        \n",
    "    for y, row in enumerate(grid):\n",
    "        for x, cell in enumerate(row):\n",
    "            count = 0\n",
    "            if y > 0:\n",
    "                count += grid[y-1][x-1] if x > 0 else 0\n",
    "                count += grid[y-1][x]\n",
    "                count += grid[y-1][x+1] if x < w - 1 else 0\n",
    "            count += grid[y][x-1] if x > 0 else 0\n",
    "            count += grid[y][x+1] if x < w - 1 else 0\n",
    "            if y < h - 1:\n",
    "                count += grid[y+1][x-1] if x > 0 else 0\n",
    "                count += grid[y+1][x]\n",
    "                count += grid[y+1][x+1] if x < w - 1 else 0\n",
    "                            \n",
    "            nextgen = 1 if count == 3 or (cell and count == 2) else 0\n",
    "            \n",
    "    return(nextgrid)"
   ]
  },
  {
   "cell_type": "code",
   "execution_count": 135,
   "id": "b84863ae-0646-420c-9c94-d1a218957ab8",
   "metadata": {},
   "outputs": [],
   "source": [
    "filename = \"input_5x5.txt\""
   ]
  },
  {
   "cell_type": "code",
   "execution_count": 136,
   "id": "51bc60f9-60b5-4c06-a770-9d688b6eaf23",
   "metadata": {},
   "outputs": [],
   "source": [
    "grid = read_grid(filename)"
   ]
  },
  {
   "cell_type": "code",
   "execution_count": 137,
   "id": "f7aecda7-8452-46a8-87a8-e827239b7499",
   "metadata": {},
   "outputs": [
    {
     "name": "stdout",
     "output_type": "stream",
     "text": [
      "CPU times: user 121 µs, sys: 8 µs, total: 129 µs\n",
      "Wall time: 135 µs\n"
     ]
    }
   ],
   "source": [
    "%%time\n",
    "nextgrid = tick(grid)"
   ]
  },
  {
   "cell_type": "code",
   "execution_count": 138,
   "id": "8cb52d13-ba25-4afa-990f-1fa19ce7f146",
   "metadata": {},
   "outputs": [
    {
     "data": {
      "text/plain": [
       "[[0, 0, 0, 0, 0],\n",
       " [0, 0, 0, 0, 0],\n",
       " [0, 0, 0, 0, 0],\n",
       " [0, 0, 0, 0, 0],\n",
       " [0, 0, 0, 0, 0]]"
      ]
     },
     "execution_count": 138,
     "metadata": {},
     "output_type": "execute_result"
    }
   ],
   "source": [
    "nextgrid"
   ]
  },
  {
   "cell_type": "code",
   "execution_count": 139,
   "id": "092a225b-8d00-4b05-bea5-c851814c14b0",
   "metadata": {},
   "outputs": [
    {
     "data": {
      "text/plain": [
       "[[0, 0, 0, 0, 0],\n",
       " [0, 0, 0, 0, 0],\n",
       " [0, 0, 0, 0, 0],\n",
       " [0, 0, 0, 0, 0],\n",
       " [0, 0, 0, 0, 0]]"
      ]
     },
     "execution_count": 139,
     "metadata": {},
     "output_type": "execute_result"
    }
   ],
   "source": [
    "num_generations = 5\n",
    "\n",
    "nextgrid = grid.copy()\n",
    "for i in range(num_generations):\n",
    "    nextgrid = tick(nextgrid)\n",
    "    \n",
    "nextgrid"
   ]
  },
  {
   "cell_type": "code",
   "execution_count": null,
   "id": "3bfa3fc1-8309-43b8-a232-65bb55295373",
   "metadata": {},
   "outputs": [],
   "source": [
    "grid"
   ]
  }
 ],
 "metadata": {
  "kernelspec": {
   "display_name": "Python",
   "language": "python",
   "name": "python3"
  },
  "language_info": {
   "codemirror_mode": {
    "name": "ipython",
    "version": 3
   },
   "file_extension": ".py",
   "mimetype": "text/x-python",
   "name": "python",
   "nbconvert_exporter": "python",
   "pygments_lexer": "ipython3",
   "version": "3.8.10"
  }
 },
 "nbformat": 4,
 "nbformat_minor": 5
}
